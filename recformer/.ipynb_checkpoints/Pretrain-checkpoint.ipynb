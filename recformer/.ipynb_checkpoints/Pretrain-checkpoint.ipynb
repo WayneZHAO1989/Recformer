{
 "cells": [
  {
   "cell_type": "code",
   "execution_count": 1,
   "id": "4fe658ff-f881-48bd-9598-cbd23a61680f",
   "metadata": {},
   "outputs": [
    {
     "name": "stderr",
     "output_type": "stream",
     "text": [
      "Seed set to 42\n"
     ]
    },
    {
     "data": {
      "text/plain": [
       "42"
      ]
     },
     "execution_count": 1,
     "metadata": {},
     "output_type": "execute_result"
    }
   ],
   "source": [
    "import os,sys\n",
    "import time\n",
    "import logging\n",
    "import json\n",
    "from typing import Optional, Union, List, Dict, Tuple\n",
    "\n",
    "import torch\n",
    "from torch.utils.tensorboard import SummaryWriter\n",
    "from torch.utils.data import Dataset, DataLoader\n",
    "from pytorch_lightning import Trainer, seed_everything\n",
    "from pytorch_lightning.callbacks import ModelCheckpoint\n",
    "\n",
    "seed_everything(42)"
   ]
  },
  {
   "cell_type": "code",
   "execution_count": null,
   "id": "ff3ba8ef-53bf-4271-938f-edf1804f68c1",
   "metadata": {},
   "outputs": [],
   "source": []
  },
  {
   "cell_type": "code",
   "execution_count": 2,
   "id": "4f78f43a-014a-44d1-8d72-00edea72f080",
   "metadata": {},
   "outputs": [],
   "source": [
    "## import recformer library\n",
    "from recformer import RecformerForPretraining, RecformerTokenizer, RecformerConfig, LitWrapper\n",
    "from collator import PretrainDataCollatorWithPadding\n",
    "from lightning_dataloader import ClickDataset"
   ]
  },
  {
   "cell_type": "code",
   "execution_count": null,
   "id": "2de4a1dc-e782-47f9-88d7-c211cda1ac1a",
   "metadata": {},
   "outputs": [],
   "source": []
  },
  {
   "cell_type": "code",
   "execution_count": null,
   "id": "70f8f787-304a-4092-85ef-5b474c6f53de",
   "metadata": {},
   "outputs": [],
   "source": []
  },
  {
   "cell_type": "code",
   "execution_count": 3,
   "id": "dc77ce32-7633-4036-a266-6829857c9694",
   "metadata": {},
   "outputs": [],
   "source": [
    "## arguments\n",
    "\n",
    "args = {\n",
    "  \"model_name_or_path\": \"../longformer-base-4096\"\n",
    ", \"longformer_ckpt\": '../longformer_ckpt/longformer-base-4096.bin'\n",
    "\n",
    ", \"train_file\": \"../pretrain_data/train.json\"  \n",
    ", \"dev_file\": \"../pretrain_data/dev.json\"  \n",
    ", \"item_attr_file\" : \"../pretrain_data/meta_data.json\"\n",
    "\n",
    ", \"batch_size\" : 2\n",
    ", \"learning_rate\":5e-5\n",
    ", \"num_train_epochs\": 32\n",
    ", \"mlm_probability\": 0.15\n",
    ", \"gradient_accumulation_steps\":8\n",
    "\n",
    ", \"valid_step\":2000\n",
    ", \"log_step\":2000\n",
    ", \"device\":-1\n",
    ", \"preprocessing_num_workers\" : 0\n",
    ", \"dataloader_num_workers\": 0\n",
    ", \"fp16\":True\n",
    ", \"fix_word_embedding\":True\n",
    ", \"temp\" :0.05\n",
    "\n",
    ", \"output_dir\": \"../result/recformer_pretraining\"\n",
    "}"
   ]
  },
  {
   "cell_type": "code",
   "execution_count": 4,
   "id": "c49d55d2-72f3-4458-bdc6-754ccb5df065",
   "metadata": {},
   "outputs": [
    {
     "data": {
      "text/plain": [
       "\"\\n# train.json  3,501,527\\n# dev.json  112,379\\n\\n['B000001FLX', 'B000002GIF', 'B000058TD8', '6303234844', '0001393774', 'B0001JXLBK']\\n['0001393774', 'B0001JXLBK', 'B0016CP2GS', 'B0016CP2GS', 'B0076FJ2R4']\\n\\n# meta_data.json  1,022,274\\n\\nitem_attrs['B000001FLX']\\n\\n{'title': 'Best of Bee Gees, Vol. 1',\\n 'brand': 'Bee Gees',\\n 'category': 'CDs & Vinyl Pop Oldies Baroque Pop'}\\n\\n\\ntokenized_item['B000001FLX']\\n\\ninput_ids: [14691, 19183, 9, 15227, 4177, 293, 6, 5896, 4, 112, 11638, 40613, 4177, 293, 42747, 11579, 29, 359, 40236, 7975, 3470, 918, 1731, 139, 3407, 7975]\\ntoken_type_ids: [1, 2, 2, 2, 2, 2, 2, 2, 2, 2, 1, 2, 2, 2, 1, 2, 2, 2, 2, 2, 2, 2, 2, 2, 2, 2]\\n\\n\""
      ]
     },
     "execution_count": 4,
     "metadata": {},
     "output_type": "execute_result"
    }
   ],
   "source": [
    "## Tonenize meta_data\n",
    "'''\n",
    "# train.json  3,501,527\n",
    "# dev.json  112,379\n",
    "\n",
    "['B000001FLX', 'B000002GIF', 'B000058TD8', '6303234844', '0001393774', 'B0001JXLBK']\n",
    "['0001393774', 'B0001JXLBK', 'B0016CP2GS', 'B0016CP2GS', 'B0076FJ2R4']\n",
    "\n",
    "# meta_data.json  1,022,274\n",
    "\n",
    "item_attrs['B000001FLX']\n",
    "\n",
    "{'title': 'Best of Bee Gees, Vol. 1',\n",
    " 'brand': 'Bee Gees',\n",
    " 'category': 'CDs & Vinyl Pop Oldies Baroque Pop'}\n",
    "\n",
    "\n",
    "tokenized_item['B000001FLX']\n",
    "\n",
    "input_ids: [14691, 19183, 9, 15227, 4177, 293, 6, 5896, 4, 112, 11638, 40613, 4177, 293, 42747, 11579, 29, 359, 40236, 7975, 3470, 918, 1731, 139, 3407, 7975]\n",
    "token_type_ids: [1, 2, 2, 2, 2, 2, 2, 2, 2, 2, 1, 2, 2, 2, 1, 2, 2, 2, 2, 2, 2, 2, 2, 2, 2, 2]\n",
    "\n",
    "'''\n"
   ]
  },
  {
   "cell_type": "code",
   "execution_count": 5,
   "id": "2c0cd8b4-004c-4048-b403-c6e98d4aeb60",
   "metadata": {},
   "outputs": [
    {
     "name": "stderr",
     "output_type": "stream",
     "text": [
      "The tokenizer class you load from this checkpoint is not the same type as the class this function is called from. It may result in unexpected tokenization. \n",
      "The tokenizer class you load from this checkpoint is 'LongformerTokenizer'. \n",
      "The class this function is called from is 'RecformerTokenizer'.\n"
     ]
    }
   ],
   "source": [
    "## load longformer tokenizer\n",
    "config = RecformerConfig.from_pretrained(args['model_name_or_path'])\n",
    "config.max_attr_num = 3\n",
    "config.max_attr_length = 32\n",
    "config.max_item_embeddings = 51  # 50 item and 1 for cls\n",
    "config.attention_window = [64] * 12\n",
    "config.max_token_num = 1024\n",
    "\n",
    "tokenizer = RecformerTokenizer.from_pretrained(args['model_name_or_path'], config)  \n",
    "\n",
    "# tokenizer._pad_token  = tokenizer.pad_token_id"
   ]
  },
  {
   "cell_type": "code",
   "execution_count": null,
   "id": "d5a788b2-e775-4ed3-ad76-977bfb120ac0",
   "metadata": {},
   "outputs": [],
   "source": []
  },
  {
   "cell_type": "code",
   "execution_count": 6,
   "id": "a96e3a29-cbfa-4d93-a587-4968e83a95f5",
   "metadata": {
    "scrolled": true
   },
   "outputs": [
    {
     "name": "stdout",
     "output_type": "stream",
     "text": [
      "[Preprocessor] Use cache: ../pretrain_data/meta_data.json.tokenized\n"
     ]
    }
   ],
   "source": [
    "## tokenize meta_data.json\n",
    "path_tokenized_items = args['item_attr_file']+'.tokenized'\n",
    "\n",
    "if os.path.exists(path_tokenized_items):\n",
    "    print(f'[Preprocessor] Use cache: {path_tokenized_items}')\n",
    "    tokenized_items = torch.load(path_tokenized_items)\n",
    "\n",
    "else:\n",
    "    item_attrs = json.load(open( args['item_attr_file'] ))\n",
    "    \n",
    "    tokenized_items = {}\n",
    "    for item_id, item_attr in item_attrs.items():\n",
    "        input_ids, token_type_ids = tokenizer.encode_item(item_attr)\n",
    "        tokenized_items[ item_id ] = [input_ids, token_type_ids]\n",
    "\n",
    "    torch.save(tokenized_items, path_tokenized_items)"
   ]
  },
  {
   "cell_type": "code",
   "execution_count": null,
   "id": "d6363aa1-02d3-4378-a678-35acddfca3f6",
   "metadata": {},
   "outputs": [],
   "source": []
  },
  {
   "cell_type": "code",
   "execution_count": 7,
   "id": "dbf5dbf3-2c4f-4f2b-b075-1264e8850e37",
   "metadata": {},
   "outputs": [],
   "source": [
    "## load data\n",
    "\n",
    "data_collator = PretrainDataCollatorWithPadding(tokenizer, tokenized_items, mlm_probability=args['mlm_probability'])\n",
    "train_data = ClickDataset(json.load(open(args['train_file'])), data_collator)\n",
    "dev_data = ClickDataset(json.load(open(args['dev_file'])), data_collator)\n",
    "\n",
    "train_loader = DataLoader(train_data, \n",
    "                          batch_size=args['batch_size'], \n",
    "                          shuffle=True, \n",
    "                          collate_fn=train_data.collate_fn,\n",
    "                          num_workers=args['dataloader_num_workers'])\n",
    "\n",
    "dev_loader = DataLoader(dev_data, \n",
    "                        batch_size=args['batch_size'], \n",
    "                        collate_fn=dev_data.collate_fn,\n",
    "                        num_workers=args['dataloader_num_workers'])"
   ]
  },
  {
   "cell_type": "code",
   "execution_count": 8,
   "id": "65045f65-6519-4daf-8c96-cd0fce50ad3c",
   "metadata": {},
   "outputs": [
    {
     "name": "stdout",
     "output_type": "stream",
     "text": [
      "0 ['B000001FLX', 'B000002GIF', 'B000058TD8', '6303234844', '0001393774', 'B0001JXLBK']\n",
      "1 ['0001393774', 'B0001JXLBK', 'B0016CP2GS', 'B0016CP2GS', 'B0076FJ2R4']\n",
      "2 ['B000008GO6', '0001393774', 'B0001JXLBK', 'B0002EZZMC', 'B0007OQA3A', 'B0000996GP', 'B000K6DPZ6']\n"
     ]
    }
   ],
   "source": [
    "loop = 0\n",
    "\n",
    "for step, batch in enumerate(dev_data):\n",
    "    print(step, batch)\n",
    "    if loop ==2:\n",
    "        break\n",
    "    loop+= 1"
   ]
  },
  {
   "cell_type": "code",
   "execution_count": 9,
   "id": "42ead514-fb38-487a-9e29-22c88519a722",
   "metadata": {},
   "outputs": [],
   "source": [
    "for step, batch in enumerate(dev_loader):\n",
    "    break"
   ]
  },
  {
   "cell_type": "code",
   "execution_count": 10,
   "id": "dd22fee1-a2d6-4173-ad2c-953a21ff4b25",
   "metadata": {},
   "outputs": [
    {
     "name": "stdout",
     "output_type": "stream",
     "text": [
      "Fix word embeddings.\n"
     ]
    }
   ],
   "source": [
    "## load checkpoint\n",
    "\n",
    "pytorch_model = RecformerForPretraining(config)\n",
    "pytorch_model.load_state_dict(torch.load(args['longformer_ckpt']))\n",
    "\n",
    "if args['fix_word_embedding']:\n",
    "    print('Fix word embeddings.')\n",
    "    for param in pytorch_model.longformer.embeddings.word_embeddings.parameters():\n",
    "        param.requires_grad = False"
   ]
  },
  {
   "cell_type": "code",
   "execution_count": null,
   "id": "5081f410-621a-4269-8625-6a8cc68972f7",
   "metadata": {},
   "outputs": [],
   "source": []
  },
  {
   "cell_type": "code",
   "execution_count": null,
   "id": "50ee56c6-fb86-4285-8846-95a24fa994f7",
   "metadata": {},
   "outputs": [],
   "source": []
  },
  {
   "cell_type": "code",
   "execution_count": null,
   "id": "fab308fb-50fd-4bf0-8e72-e1f57a7bed37",
   "metadata": {},
   "outputs": [],
   "source": [
    "pytorch_model(**batch)"
   ]
  },
  {
   "cell_type": "code",
   "execution_count": null,
   "id": "3623653b-8124-49b1-9284-a46bd6b132c3",
   "metadata": {},
   "outputs": [],
   "source": []
  },
  {
   "cell_type": "code",
   "execution_count": null,
   "id": "a73ee11c-30b7-4cf5-b26b-6c178cff49b3",
   "metadata": {},
   "outputs": [],
   "source": []
  },
  {
   "cell_type": "code",
   "execution_count": null,
   "id": "bb47882b-3016-4b2b-8f43-3d5bbd847649",
   "metadata": {},
   "outputs": [],
   "source": [
    "\n",
    "model = LitWrapper(pytorch_model, learning_rate=args['learning_rate'])\n",
    "\n",
    "checkpoint_callback = ModelCheckpoint(save_top_k=5, monitor=\"accuracy\", mode=\"max\", filename=\"{epoch}-{accuracy:.4f}\")\n",
    "\n",
    "# model(**batch)"
   ]
  },
  {
   "cell_type": "code",
   "execution_count": null,
   "id": "e244b183-7a3c-4122-aa0c-20f769fc8b17",
   "metadata": {},
   "outputs": [],
   "source": [
    "\n",
    "trainer = Trainer(accelerator=\"cpu\",\n",
    "                 max_epochs=args['num_train_epochs'],\n",
    "                 devices=args['device'],\n",
    "                 accumulate_grad_batches=args['gradient_accumulation_steps'],\n",
    "                 val_check_interval=args['valid_step'],\n",
    "                 default_root_dir=args['output_dir'],\n",
    "                 gradient_clip_val=1.0,\n",
    "                 log_every_n_steps=args['log_step'],\n",
    "                 precision=16 if args['fp16'] else 32,\n",
    "                 strategy='ddp',\n",
    "                 callbacks=[checkpoint_callback]\n",
    "                 )\n",
    "\n",
    "trainer.fit(model, train_dataloaders=train_loader, val_dataloaders=dev_loader, ckpt_path=args['ckpt'])\n"
   ]
  },
  {
   "cell_type": "code",
   "execution_count": null,
   "id": "1738f7a0-7a46-416c-bcab-a49d806dddce",
   "metadata": {},
   "outputs": [],
   "source": []
  },
  {
   "cell_type": "code",
   "execution_count": null,
   "id": "11394fd4-627a-42fb-94ff-ad0ddf8dc2a7",
   "metadata": {},
   "outputs": [],
   "source": []
  },
  {
   "cell_type": "code",
   "execution_count": null,
   "id": "46b143e9-bbd8-45a9-b5d1-4f479616e4d8",
   "metadata": {},
   "outputs": [],
   "source": []
  },
  {
   "cell_type": "code",
   "execution_count": null,
   "id": "3cb59e9a-e52b-45cc-a310-b15df363f35b",
   "metadata": {},
   "outputs": [],
   "source": []
  },
  {
   "cell_type": "code",
   "execution_count": null,
   "id": "47a0d6b7-67f7-43e4-b3ec-2cfbfd8a40c5",
   "metadata": {},
   "outputs": [],
   "source": []
  },
  {
   "cell_type": "code",
   "execution_count": null,
   "id": "86da7aac-88d4-4fa4-b7e6-92777da56df9",
   "metadata": {},
   "outputs": [],
   "source": []
  }
 ],
 "metadata": {
  "kernelspec": {
   "display_name": "Python 3 (ipykernel)",
   "language": "python",
   "name": "python3"
  },
  "language_info": {
   "codemirror_mode": {
    "name": "ipython",
    "version": 3
   },
   "file_extension": ".py",
   "mimetype": "text/x-python",
   "name": "python",
   "nbconvert_exporter": "python",
   "pygments_lexer": "ipython3",
   "version": "3.12.9"
  }
 },
 "nbformat": 4,
 "nbformat_minor": 5
}
